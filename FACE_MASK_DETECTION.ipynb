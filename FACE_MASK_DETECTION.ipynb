{
  "nbformat": 4,
  "nbformat_minor": 0,
  "metadata": {
    "colab": {
      "provenance": [],
      "collapsed_sections": []
    },
    "kernelspec": {
      "name": "python3",
      "display_name": "Python 3"
    },
    "language_info": {
      "name": "python"
    }
  },
  "cells": [
    {
      "cell_type": "markdown",
      "source": [
        "**1.0 DATA PROCESSING**"
      ],
      "metadata": {
        "id": "Estss5wOzvFP"
      }
    },
    {
      "cell_type": "code",
      "execution_count": null,
      "metadata": {
        "id": "LzqnSsmwyOE6"
      },
      "outputs": [],
      "source": [
        "import cv2,os\n",
        "\n",
        "data_path='/content/drive/MyDrive/Colab Notebooks/dataset'\n",
        "categories=os.listdir(data_path)\n",
        "labels=[i for i in range(len(categories))]\n",
        "\n",
        "label_dict=dict(zip(categories,labels))\n",
        "\n",
        "print(label_dict)\n",
        "print(categories)\n",
        "print(labels)"
      ]
    },
    {
      "cell_type": "code",
      "source": [
        "img_size=100\n",
        "data=[]\n",
        "target=[]\n",
        "\n",
        "\n",
        "for category in categories:\n",
        "    folder_path=os.path.join(data_path,category)\n",
        "    img_names=os.listdir(folder_path)\n",
        "        \n",
        "    for img_name in img_names:\n",
        "        img_path=os.path.join(folder_path,img_name)\n",
        "        img=cv2.imread(img_path)\n",
        "\n",
        "        try:\n",
        "            gray=cv2.cvtColor(img,cv2.COLOR_BGR2GRAY)           \n",
        "            #Coverting the image into gray scale\n",
        "            resized=cv2.resize(gray,(img_size,img_size))\n",
        "            #resizing the gray scale into 100x100, since we need a fixed common size for all the images in the dataset\n",
        "            data.append(resized)\n",
        "            target.append(label_dict[category])\n",
        "            #appending the image and the label(categorized) into the list (dataset)\n",
        "\n",
        "        except Exception as e:\n",
        "            print('Exception:',e)\n",
        "            #if any exception rasied, the exception will be printed here. And pass to the next image"
      ],
      "metadata": {
        "id": "vqT3Ef0LylJg"
      },
      "execution_count": null,
      "outputs": []
    },
    {
      "cell_type": "code",
      "source": [
        "import numpy as np\n",
        "\n",
        "data=np.array(data)/255.0\n",
        "data=np.reshape(data,(data.shape[0],img_size,img_size,1))\n",
        "target=np.array(target)\n",
        "\n",
        "from keras.utils import np_utils\n",
        "\n",
        "new_target=np_utils.to_categorical(target)"
      ],
      "metadata": {
        "id": "YhhiaVCWyvfz"
      },
      "execution_count": null,
      "outputs": []
    },
    {
      "cell_type": "code",
      "source": [
        "np.save('data',data)\n",
        "np.save('target',new_target)"
      ],
      "metadata": {
        "id": "D1pRV0CSy09b"
      },
      "execution_count": null,
      "outputs": []
    },
    {
      "cell_type": "markdown",
      "source": [
        "**2.0 TRANING THE CNN**"
      ],
      "metadata": {
        "id": "wwEbqkwhztiC"
      }
    },
    {
      "cell_type": "code",
      "source": [
        "import numpy as np\n",
        "\n",
        "data=np.load('data.npy')\n",
        "target=np.load('target.npy')\n",
        "\n",
        "#loading the save numpy arrays in the previous code"
      ],
      "metadata": {
        "id": "Y2jY0NS-0DOK"
      },
      "execution_count": null,
      "outputs": []
    },
    {
      "cell_type": "code",
      "source": [
        "from keras.models import Sequential\n",
        "from keras.layers import Dense,Activation,Flatten,Dropout\n",
        "from keras.layers import Conv2D,MaxPooling2D\n",
        "from keras.callbacks import ModelCheckpoint\n",
        "\n",
        "model=Sequential()\n",
        "\n",
        "model.add(Conv2D(200,(3,3),input_shape=data.shape[1:]))\n",
        "model.add(Activation('relu'))\n",
        "model.add(MaxPooling2D(pool_size=(2,2)))\n",
        "#The first CNN layer followed by Relu and MaxPooling layers\n",
        "\n",
        "model.add(Conv2D(100,(3,3)))\n",
        "model.add(Activation('relu'))\n",
        "model.add(MaxPooling2D(pool_size=(2,2)))\n",
        "#The second convolution layer followed by Relu and MaxPooling layers\n",
        "\n",
        "model.add(Flatten())\n",
        "model.add(Dropout(0.5))\n",
        "#Flatten layer to stack the output convolutions from second convolution layer\n",
        "model.add(Dense(50,activation='relu'))\n",
        "#Dense layer of 64 neurons\n",
        "model.add(Dense(2,activation='softmax'))\n",
        "#The Final layer with two outputs for two categories\n",
        "\n",
        "model.compile(loss='categorical_crossentropy',optimizer='adam',metrics=['accuracy'])"
      ],
      "metadata": {
        "id": "Q8SNHcp20Iav"
      },
      "execution_count": null,
      "outputs": []
    },
    {
      "cell_type": "code",
      "source": [
        "from sklearn.model_selection import train_test_split\n",
        "\n",
        "train_data,test_data,train_target,test_target=train_test_split(data,target,test_size=0.1)"
      ],
      "metadata": {
        "id": "2tISbcHw0OC7"
      },
      "execution_count": null,
      "outputs": []
    },
    {
      "cell_type": "code",
      "source": [
        "checkpoint = ModelCheckpoint('model-{epoch:03d}.model',monitor='val_loss',verbose=0,save_best_only=True,mode='auto')\n",
        "history=model.fit(train_data,train_target,epochs=20,callbacks=[checkpoint],validation_split=0.2)"
      ],
      "metadata": {
        "colab": {
          "base_uri": "https://localhost:8080/"
        },
        "id": "57DphJkO0RO2",
        "outputId": "72ee55d9-8ac1-4b98-8f93-6a2c8553a3ca"
      },
      "execution_count": 8,
      "outputs": [
        {
          "metadata": {
            "tags": null
          },
          "name": "stdout",
          "output_type": "stream",
          "text": [
            "Epoch 1/20\n",
            "31/31 [==============================] - ETA: 0s - loss: 0.7355 - accuracy: 0.5323"
          ]
        },
        {
          "metadata": {
            "tags": null
          },
          "name": "stderr",
          "output_type": "stream",
          "text": [
            "WARNING:absl:Found untraced functions such as _jit_compiled_convolution_op, _jit_compiled_convolution_op while saving (showing 2 of 2). These functions will not be directly callable after loading.\n"
          ]
        },
        {
          "metadata": {
            "tags": null
          },
          "name": "stdout",
          "output_type": "stream",
          "text": [
            "31/31 [==============================] - 94s 3s/step - loss: 0.7355 - accuracy: 0.5323 - val_loss: 0.6587 - val_accuracy: 0.6089\n",
            "Epoch 2/20\n",
            "31/31 [==============================] - ETA: 0s - loss: 0.6277 - accuracy: 0.6606"
          ]
        },
        {
          "metadata": {
            "tags": null
          },
          "name": "stderr",
          "output_type": "stream",
          "text": [
            "WARNING:absl:Found untraced functions such as _jit_compiled_convolution_op, _jit_compiled_convolution_op while saving (showing 2 of 2). These functions will not be directly callable after loading.\n"
          ]
        },
        {
          "metadata": {
            "tags": null
          },
          "name": "stdout",
          "output_type": "stream",
          "text": [
            "31/31 [==============================] - 89s 3s/step - loss: 0.6277 - accuracy: 0.6606 - val_loss: 0.5354 - val_accuracy: 0.7984\n",
            "Epoch 3/20\n",
            "31/31 [==============================] - ETA: 0s - loss: 0.4470 - accuracy: 0.7949"
          ]
        },
        {
          "metadata": {
            "tags": null
          },
          "name": "stderr",
          "output_type": "stream",
          "text": [
            "WARNING:absl:Found untraced functions such as _jit_compiled_convolution_op, _jit_compiled_convolution_op while saving (showing 2 of 2). These functions will not be directly callable after loading.\n"
          ]
        },
        {
          "metadata": {
            "tags": null
          },
          "name": "stdout",
          "output_type": "stream",
          "text": [
            "31/31 [==============================] - 94s 3s/step - loss: 0.4470 - accuracy: 0.7949 - val_loss: 0.3390 - val_accuracy: 0.8306\n",
            "Epoch 4/20\n",
            "31/31 [==============================] - ETA: 0s - loss: 0.3047 - accuracy: 0.8697"
          ]
        },
        {
          "metadata": {
            "tags": null
          },
          "name": "stderr",
          "output_type": "stream",
          "text": [
            "WARNING:absl:Found untraced functions such as _jit_compiled_convolution_op, _jit_compiled_convolution_op while saving (showing 2 of 2). These functions will not be directly callable after loading.\n"
          ]
        },
        {
          "metadata": {
            "tags": null
          },
          "name": "stdout",
          "output_type": "stream",
          "text": [
            "31/31 [==============================] - 83s 3s/step - loss: 0.3047 - accuracy: 0.8697 - val_loss: 0.1907 - val_accuracy: 0.9476\n",
            "Epoch 5/20\n",
            "31/31 [==============================] - 83s 3s/step - loss: 0.2204 - accuracy: 0.9162 - val_loss: 0.2045 - val_accuracy: 0.9153\n",
            "Epoch 6/20\n",
            "31/31 [==============================] - ETA: 0s - loss: 0.1810 - accuracy: 0.9303"
          ]
        },
        {
          "metadata": {
            "tags": null
          },
          "name": "stderr",
          "output_type": "stream",
          "text": [
            "WARNING:absl:Found untraced functions such as _jit_compiled_convolution_op, _jit_compiled_convolution_op while saving (showing 2 of 2). These functions will not be directly callable after loading.\n"
          ]
        },
        {
          "metadata": {
            "tags": null
          },
          "name": "stdout",
          "output_type": "stream",
          "text": [
            "31/31 [==============================] - 81s 3s/step - loss: 0.1810 - accuracy: 0.9303 - val_loss: 0.1456 - val_accuracy: 0.9597\n",
            "Epoch 7/20\n",
            "31/31 [==============================] - 82s 3s/step - loss: 0.1288 - accuracy: 0.9505 - val_loss: 0.1651 - val_accuracy: 0.9234\n",
            "Epoch 8/20\n",
            "31/31 [==============================] - ETA: 0s - loss: 0.1307 - accuracy: 0.9455"
          ]
        },
        {
          "metadata": {
            "tags": null
          },
          "name": "stderr",
          "output_type": "stream",
          "text": [
            "WARNING:absl:Found untraced functions such as _jit_compiled_convolution_op, _jit_compiled_convolution_op while saving (showing 2 of 2). These functions will not be directly callable after loading.\n"
          ]
        },
        {
          "metadata": {
            "tags": null
          },
          "name": "stdout",
          "output_type": "stream",
          "text": [
            "31/31 [==============================] - 81s 3s/step - loss: 0.1307 - accuracy: 0.9455 - val_loss: 0.1184 - val_accuracy: 0.9677\n",
            "Epoch 9/20\n",
            "31/31 [==============================] - ETA: 0s - loss: 0.0780 - accuracy: 0.9747"
          ]
        },
        {
          "metadata": {
            "tags": null
          },
          "name": "stderr",
          "output_type": "stream",
          "text": [
            "WARNING:absl:Found untraced functions such as _jit_compiled_convolution_op, _jit_compiled_convolution_op while saving (showing 2 of 2). These functions will not be directly callable after loading.\n"
          ]
        },
        {
          "metadata": {
            "tags": null
          },
          "name": "stdout",
          "output_type": "stream",
          "text": [
            "31/31 [==============================] - 80s 3s/step - loss: 0.0780 - accuracy: 0.9747 - val_loss: 0.0873 - val_accuracy: 0.9798\n",
            "Epoch 10/20\n",
            "31/31 [==============================] - 84s 3s/step - loss: 0.0755 - accuracy: 0.9727 - val_loss: 0.0978 - val_accuracy: 0.9677\n",
            "Epoch 11/20\n",
            "31/31 [==============================] - 80s 3s/step - loss: 0.0471 - accuracy: 0.9859 - val_loss: 0.0878 - val_accuracy: 0.9798\n",
            "Epoch 12/20\n",
            "31/31 [==============================] - 82s 3s/step - loss: 0.0602 - accuracy: 0.9788 - val_loss: 0.1066 - val_accuracy: 0.9718\n",
            "Epoch 13/20\n",
            "31/31 [==============================] - 80s 3s/step - loss: 0.0715 - accuracy: 0.9768 - val_loss: 0.1968 - val_accuracy: 0.9274\n",
            "Epoch 14/20\n",
            "31/31 [==============================] - 80s 3s/step - loss: 0.0714 - accuracy: 0.9717 - val_loss: 0.1102 - val_accuracy: 0.9677\n",
            "Epoch 15/20\n",
            "31/31 [==============================] - ETA: 0s - loss: 0.0477 - accuracy: 0.9848"
          ]
        },
        {
          "metadata": {
            "tags": null
          },
          "name": "stderr",
          "output_type": "stream",
          "text": [
            "WARNING:absl:Found untraced functions such as _jit_compiled_convolution_op, _jit_compiled_convolution_op while saving (showing 2 of 2). These functions will not be directly callable after loading.\n"
          ]
        },
        {
          "metadata": {
            "tags": null
          },
          "name": "stdout",
          "output_type": "stream",
          "text": [
            "31/31 [==============================] - 82s 3s/step - loss: 0.0477 - accuracy: 0.9848 - val_loss: 0.0849 - val_accuracy: 0.9839\n",
            "Epoch 16/20\n",
            "31/31 [==============================] - 80s 3s/step - loss: 0.0388 - accuracy: 0.9879 - val_loss: 0.1102 - val_accuracy: 0.9798\n",
            "Epoch 17/20\n",
            "31/31 [==============================] - 82s 3s/step - loss: 0.0352 - accuracy: 0.9919 - val_loss: 0.0986 - val_accuracy: 0.9758\n",
            "Epoch 18/20\n",
            "31/31 [==============================] - 80s 3s/step - loss: 0.0389 - accuracy: 0.9899 - val_loss: 0.1094 - val_accuracy: 0.9758\n",
            "Epoch 19/20\n",
            "31/31 [==============================] - 80s 3s/step - loss: 0.0442 - accuracy: 0.9838 - val_loss: 0.0973 - val_accuracy: 0.9798\n",
            "Epoch 20/20\n",
            "31/31 [==============================] - 82s 3s/step - loss: 0.0370 - accuracy: 0.9869 - val_loss: 0.0887 - val_accuracy: 0.9718\n"
          ]
        }
      ]
    },
    {
      "cell_type": "code",
      "source": [
        "from matplotlib import pyplot as plt\n",
        "\n",
        "plt.plot(history.history['loss'],'r',label='training loss')\n",
        "plt.plot(history.history['val_loss'],label='validation loss')\n",
        "plt.xlabel('# epochs')\n",
        "plt.ylabel('loss')\n",
        "plt.legend()\n",
        "plt.show()"
      ],
      "metadata": {
        "id": "D-BRyZts0VzT",
        "colab": {
          "base_uri": "https://localhost:8080/",
          "height": 279
        },
        "outputId": "19d235ea-4019-4549-885f-fbc4bc493350"
      },
      "execution_count": 9,
      "outputs": [
        {
          "output_type": "display_data",
          "data": {
            "text/plain": [
              "<Figure size 432x288 with 1 Axes>"
            ],
            "image/png": "[encoded data removed]"
          },
          "metadata": {
            "needs_background": "light"
          }
        }
      ]
    },
    {
      "cell_type": "code",
      "source": [
        "plt.plot(history.history['accuracy'],'r',label='training accuracy')\n",
        "plt.plot(history.history['val_accuracy'],label='validation accuracy')\n",
        "plt.xlabel('# epochs')\n",
        "plt.ylabel('loss')\n",
        "plt.legend()\n",
        "plt.show()"
      ],
      "metadata": {
        "id": "Mj28Dnzk0a00",
        "colab": {
          "base_uri": "https://localhost:8080/",
          "height": 279
        },
        "outputId": "dd5cc19d-2c93-430c-a028-a740ba30ed4f"
      },
      "execution_count": 10,
      "outputs": [
        {
          "output_type": "display_data",
          "data": {
            "text/plain": [
              "<Figure size 432x288 with 1 Axes>"
            ],
            "image/png": "[encoded data removed]"
          },
          "metadata": {
            "needs_background": "light"
          }
        }
      ]
    },
    {
      "cell_type": "code",
      "source": [
        "print(model.evaluate(test_data,test_target))"
      ],
      "metadata": {
        "id": "mSMa1PJd0b52",
        "colab": {
          "base_uri": "https://localhost:8080/"
        },
        "outputId": "27c2dd3c-379f-416f-c7d8-1b3cd359e214"
      },
      "execution_count": 11,
      "outputs": [
        {
          "output_type": "stream",
          "name": "stdout",
          "text": [
            "5/5 [==============================] - 3s 541ms/step - loss: 0.1893 - accuracy: 0.9493\n",
            "[0.189256951212883, 0.9492753744125366]\n"
          ]
        }
      ]
    },
    {
      "cell_type": "markdown",
      "source": [
        "**3.0 DETECTING MASKS**"
      ],
      "metadata": {
        "id": "7pQXtW7Q0eVN"
      }
    },
    {
      "cell_type": "code",
      "source": [
        "from keras.models import load_model\n",
        "import cv2\n",
        "import numpy as np"
      ],
      "metadata": {
        "id": "oqG3DjaZ0r69"
      },
      "execution_count": 3,
      "outputs": []
    },
    {
      "cell_type": "code",
      "source": [
        "model = load_model('model-017.model')\n",
        "\n",
        "face_clsfr=cv2.CascadeClassifier('/content/drive/MyDrive/Colab Notebooks/haarcascade_frontalface_default.xml')\n",
        "\n",
        "source=cv2.VideoCapture(0)\n",
        "\n",
        "labels_dict={0:'MASK',1:'NO MASK'}\n",
        "color_dict={0:(0,255,0),1:(0,0,255)}"
      ],
      "metadata": {
        "id": "5fsPZGZT9-M-"
      },
      "execution_count": null,
      "outputs": []
    },
    {
      "cell_type": "code",
      "source": [
        "while(True):\n",
        "\n",
        "    ret,img=source.read()\n",
        "    gray=cv2.cvtColor(img,cv2.COLOR_BGR2GRAY)\n",
        "    faces=face_clsfr.detectMultiScale(gray,1.3,5)  \n",
        "\n",
        "    for x,y,w,h in faces:\n",
        "    \n",
        "        face_img=gray[y:y+w,x:x+w]\n",
        "        resized=cv2.resize(face_img,(100,100))\n",
        "        normalized=resized/255.0\n",
        "        reshaped=np.reshape(normalized,(1,100,100,1))\n",
        "        result=model.predict(reshaped)\n",
        "\n",
        "        label=np.argmax(result,axis=1)[0]\n",
        "      \n",
        "        cv2.rectangle(img,(x,y),(x+w,y+h),color_dict[label],2)\n",
        "        cv2.rectangle(img,(x,y-40),(x+w,y),color_dict[label],-1)\n",
        "        cv2.putText(img, labels_dict[label], (x, y-10),cv2.FONT_HERSHEY_SIMPLEX,0.8,(255,255,255),2)\n",
        "        \n",
        "        \n",
        "    cv2.imshow('LIVE',img)\n",
        "    key=cv2.waitKey(1)\n",
        "    \n",
        "    if(key==27):\n",
        "        break\n",
        "        \n",
        "cv2.destroyAllWindows()\n",
        "source.release()"
      ],
      "metadata": {
        "id": "-XxxvJPW06Jv"
      },
      "execution_count": null,
      "outputs": []
    }
  ]
}